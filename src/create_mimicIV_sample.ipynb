{
 "cells": [
  {
   "cell_type": "code",
   "execution_count": 2,
   "metadata": {},
   "outputs": [],
   "source": [
    "import pandas as pd\n",
    "from tqdm import tqdm\n",
    "import numpy as np\n",
    "import collections\n",
    "import random\n",
    "from random import sample\n",
    "random.seed(42)\n"
   ]
  },
  {
   "cell_type": "code",
   "execution_count": 10,
   "metadata": {},
   "outputs": [],
   "source": [
    "# Define paths\n",
    "main_dir = \"/home/\"\n",
    "input_file = main_dir + \"dataset/mimiciv/3.1/preprocessed/mimicIV_icd10\"\n",
    "sample_dir = main_dir + \"dataset/mimiciv/3.1/preprocessed/\""
   ]
  },
  {
   "cell_type": "code",
   "execution_count": 11,
   "metadata": {},
   "outputs": [],
   "source": [
    "data =  pd.read_pickle(input_file)"
   ]
  },
  {
   "cell_type": "code",
   "execution_count": null,
   "metadata": {},
   "outputs": [],
   "source": [
    "diagnosis = []\n",
    "for index, row in tqdm(data.iterrows(), total=len(data)):\n",
    "    diagnosis = diagnosis + row[\"icd10_diag\"]\n",
    "unique_diagnosis = set(diagnosis)\n",
    "unique_diagnosis"
   ]
  },
  {
   "cell_type": "code",
   "execution_count": 13,
   "metadata": {},
   "outputs": [],
   "source": [
    "with open(main_dir+'dataset/mimiciv/3.1/preprocessed/unique_diagnosis_icd10.txt','w') as f:\n",
    "    f.write(str(unique_diagnosis)) "
   ]
  },
  {
   "cell_type": "code",
   "execution_count": null,
   "metadata": {},
   "outputs": [],
   "source": [
    "from collections import defaultdict\n",
    "\n",
    "labels_histogram = defaultdict(int)\n",
    "for key in diagnosis:\n",
    "    labels_histogram[key]+=1\n",
    "labels_histogram   \n",
    "\n",
    "#unique_labels, unique_counts = np.unique(diagnosis, return_counts=True)\n",
    "#labels_histogram = dict(zip(unique_labels, unique_counts))\n",
    "#labels_histogram"
   ]
  },
  {
   "cell_type": "code",
   "execution_count": 16,
   "metadata": {},
   "outputs": [],
   "source": [
    "with open(main_dir+'dataset/mimiciv/3.1/preprocessed/diagnosis_histogram_icd10.txt','w') as f:\n",
    "    f.write(str(labels_histogram)) "
   ]
  },
  {
   "cell_type": "code",
   "execution_count": null,
   "metadata": {},
   "outputs": [],
   "source": [
    "sorted(labels_histogram, key=lambda x: (-labels_histogram[x], x))"
   ]
  },
  {
   "cell_type": "code",
   "execution_count": null,
   "metadata": {},
   "outputs": [],
   "source": [
    "occurrences = collections.Counter(diagnosis)\n",
    "rare_diagnosis =  [key for key in occurrences if all(occurrences[temp] >= occurrences[key] for temp in occurrences)] \n",
    "common_diagnosis = [key for key in occurrences if all(occurrences[temp] <= occurrences[key] for temp in occurrences)] \n",
    "print(\"rare_diagnosis: \", rare_diagnosis)\n",
    "print(\"common_diagnosis: \", common_diagnosis)"
   ]
  },
  {
   "cell_type": "code",
   "execution_count": null,
   "metadata": {},
   "outputs": [],
   "source": [
    "diagnosis_sample = rare_diagnosis + common_diagnosis\n",
    "print(\"length of diagnosis_sample: \", len(diagnosis_sample))\n",
    "\n",
    "selected_indices = []\n",
    "balanced_indices = []\n",
    "for index, row in tqdm(data.iterrows(), total=len(data)):\n",
    "    discharge_text = row[\"text\"]\n",
    "    if \"chief complaint:\" in discharge_text:\n",
    "        if \"history of present illness:\" in discharge_text:\n",
    "            if \"major surgical or invasive procedure:\" in discharge_text:\n",
    "                if \"social history:\"  in discharge_text:\n",
    "                    if \"physical exam:\" in discharge_text:\n",
    "                        if \"pertinent results:\" in discharge_text:\n",
    "                            if \"brief hospital course\" in discharge_text:\n",
    "                                if \"medications on admission:\" in discharge_text:\n",
    "                                    if \"discharge medications:\" in discharge_text:\n",
    "                                        if \"discharge diagnosis:\" in discharge_text:\n",
    "                                            if \"discharge instructions:\" in discharge_text:\n",
    "                                                if \"deceased\" not in discharge_text:\n",
    "                                                    if \"patient expired\" not in discharge_text:\n",
    "                                                        selected_indices.append(index)\n",
    "                                                        intersection_list = [i for i in row[\"icd10_diag\"] if i in diagnosis_sample]\n",
    "                                                        if len(intersection_list) != 0:\n",
    "                                                            balanced_indices.append(index)\n",
    "        \n",
    "print(\"length of selected_indices: \", len(selected_indices))\n",
    "print(\"length of balanced_indices: \", len(balanced_indices))\n",
    "\n",
    "mimicIV_sample = data.iloc[selected_indices]\n",
    "mimicIV_sample_balanced = data.iloc[balanced_indices]"
   ]
  },
  {
   "cell_type": "code",
   "execution_count": 37,
   "metadata": {},
   "outputs": [],
   "source": [
    "mimicIV_sample = mimicIV_sample.reset_index(drop=True)\n",
    "mimicIV_sample.to_csv(sample_dir + \"mimicIV_sample_filtered_icd10.csv\")"
   ]
  },
  {
   "cell_type": "code",
   "execution_count": 38,
   "metadata": {},
   "outputs": [],
   "source": [
    "mimicIV_sample_balanced = mimicIV_sample_balanced.reset_index(drop=True)\n",
    "mimicIV_sample_balanced.to_csv(sample_dir + \"mimicIV_sample_filtered_icd10_balanced.csv\")"
   ]
  },
  {
   "cell_type": "code",
   "execution_count": null,
   "metadata": {},
   "outputs": [],
   "source": [
    "rare_indices = []\n",
    "for index, row in tqdm(mimicIV_sample_balanced.iterrows(), total=len(mimicIV_sample_balanced)):\n",
    "    intersection_list = [i for i in row[\"icd10_diag\"] if i in rare_diagnosis]\n",
    "    if len(intersection_list) != 0:\n",
    "        rare_indices.append(index)\n",
    "        \n",
    "common_indices = []\n",
    "for index, row in tqdm(mimicIV_sample_balanced.iterrows(), total=len(mimicIV_sample_balanced)):\n",
    "    intersection_list = [i for i in row[\"icd10_diag\"] if i in common_diagnosis]\n",
    "    if len(intersection_list) != 0:\n",
    "        common_indices.append(index)\n",
    "        \n",
    "print(\"length of rare_indices: \", len(rare_indices))\n",
    "print(\"length of common_indices: \", len(common_indices))"
   ]
  },
  {
   "cell_type": "code",
   "execution_count": 42,
   "metadata": {},
   "outputs": [],
   "source": [
    "random.seed(42)\n",
    "final_common_indices = sample(common_indices, 500)"
   ]
  },
  {
   "cell_type": "code",
   "execution_count": null,
   "metadata": {},
   "outputs": [],
   "source": [
    "random.seed(42)\n",
    "intersect_indices = list(set(rare_indices).intersection(common_indices))\n",
    "len(intersect_indices)"
   ]
  },
  {
   "cell_type": "code",
   "execution_count": null,
   "metadata": {},
   "outputs": [],
   "source": [
    "random.seed(42)\n",
    "filtered_rare_indices = [i for i in rare_indices if i not in intersect_indices]\n",
    "len(filtered_rare_indices)"
   ]
  },
  {
   "cell_type": "code",
   "execution_count": null,
   "metadata": {},
   "outputs": [],
   "source": [
    "random.seed(42)\n",
    "final_rare_indices = sample(filtered_rare_indices, 500)\n",
    "final_filtered_indices = final_rare_indices + final_common_indices\n",
    "len(final_filtered_indices)"
   ]
  },
  {
   "cell_type": "code",
   "execution_count": null,
   "metadata": {},
   "outputs": [],
   "source": [
    "mimicIV_final_sample_balanced = mimicIV_sample_balanced.iloc[final_filtered_indices]\n",
    "mimicIV_final_sample_balanced = mimicIV_final_sample_balanced.reset_index(drop=True)\n",
    "mimicIV_final_sample_balanced.to_csv(sample_dir + \"mimicIV_1000_balanced_sample_filtered_icd10.csv\")"
   ]
  },
  {
   "cell_type": "code",
   "execution_count": null,
   "metadata": {},
   "outputs": [],
   "source": [
    "mimicIV_final_sample_balanced"
   ]
  },
  {
   "cell_type": "code",
   "execution_count": 7,
   "metadata": {},
   "outputs": [],
   "source": [
    "def create_discharge_text_data(data, discharge_data_file):\n",
    "    print(\"creating discharge texts\")\n",
    "    note_ids = []\n",
    "    subject_ids = []\n",
    "    _ids = []\n",
    "    icd10_procs = []\n",
    "    icd10_diags = []\n",
    "    complaint = []\n",
    "    pHistory = []\n",
    "    exam = []\n",
    "    result = []\n",
    "    diagnoses = []\n",
    "    pCondition = []\n",
    "    inst = []\n",
    "    \n",
    "    for index, row in tqdm(data.iterrows(), total=len(data)):\n",
    "        discharge_text = row[\"text\"]\n",
    "        note_ids.append(row[\"note_id\"])\n",
    "        subject_ids.append(row[\"subject_id\"])\n",
    "        _ids.append(row[\"_id\"])\n",
    "        icd10_procs.append(row[\"icd10_proc\"])\n",
    "        icd10_diags.append(row[\"icd10_diag\"])\n",
    "        splitter = 'brief hospital course:'\n",
    "        pre_diagnosis_text = discharge_text.split(splitter, 1)[0]\n",
    "        chief_complaint = pre_diagnosis_text.split('chief complaint:', 1)[1].split('major surgical or invasive procedure:', 1)[0]\n",
    "        complaint.append(chief_complaint.strip().strip('\\n'))\n",
    "        history = pre_diagnosis_text.split('history of present illness:', 1)[1].split('social history:', 1)[0]\n",
    "        pHistory.append(history.strip().strip('\\n'))\n",
    "        physical_exam = pre_diagnosis_text.split('physical exam:', 1)[1].split('pertinent results:', 1)[0]\n",
    "        exam.append(physical_exam.strip().strip('\\n'))\n",
    "        results = pre_diagnosis_text.split('pertinent results:', 1)[1]\n",
    "        result.append(results.strip().strip('\\n'))\n",
    "        diagnosis = discharge_text.split('discharge diagnosis:', 1)[1].split('discharge condition:', 1)[0]\n",
    "        diagnoses.append(diagnosis.strip().strip('\\n'))\n",
    "        condition = discharge_text.split('discharge condition:', 1)[1].split('discharge instructions:', 1)[0]\n",
    "        pCondition.append(condition.strip().strip('\\n'))\n",
    "        instructions = discharge_text.split('discharge instructions:', 1)[1].split('followup instructions:', 1)[0]\n",
    "        inst.append(instructions.strip().strip('\\n'))\n",
    "    extracted_data = {'note_id': note_ids, \n",
    "                        'subject_id': subject_ids,\n",
    "                        '_id': _ids,\n",
    "                        'icd10_proc': icd10_procs,\n",
    "                        'icd10_diag': icd10_diags,\n",
    "                        'chief_complaint': complaint, \n",
    "                        'history': pHistory,\n",
    "                        'physical_exam': exam,\n",
    "                        'results': result,\n",
    "                        'discharge diagnosis': diagnoses,\n",
    "                        'discharge condition': pCondition,\n",
    "                        'discharge instructions': inst\n",
    "                        }\n",
    "    extracted_data = pd.DataFrame(extracted_data)\n",
    "    extracted_data.to_csv(discharge_data_file)\n",
    "    return extracted_data"
   ]
  },
  {
   "cell_type": "code",
   "execution_count": null,
   "metadata": {},
   "outputs": [],
   "source": [
    "main_dir = \"/home/dataset/mimiciv/3.1/preprocessed/\"\n",
    "final_path = main_dir+\"mimicIV_1000_balanced_sample_filtered_parsed_icd10.csv\"\n",
    "create_discharge_text_data(mimicIV_final_sample_balanced,final_path)"
   ]
  },
  {
   "cell_type": "code",
   "execution_count": null,
   "metadata": {},
   "outputs": [],
   "source": [
    "random_subset = mimicIV_sample.sample(n=1000, random_state=13)\n",
    "random_subset = random_subset.reset_index(drop=True)\n",
    "random_subset"
   ]
  },
  {
   "cell_type": "code",
   "execution_count": 87,
   "metadata": {},
   "outputs": [],
   "source": [
    "random_subset.to_csv(main_dir + \"mimicIV_1000_random_sample_filtered_icd10.csv\")"
   ]
  },
  {
   "cell_type": "code",
   "execution_count": null,
   "metadata": {},
   "outputs": [],
   "source": [
    "random_final_path = main_dir+\"mimicIV_1000_random_sample_filtered_parsed_icd10.csv\"\n",
    "create_discharge_text_data(random_subset,random_final_path)"
   ]
  }
 ],
 "metadata": {
  "kernelspec": {
   "display_name": "text-generation-inference",
   "language": "python",
   "name": "python3"
  },
  "language_info": {
   "codemirror_mode": {
    "name": "ipython",
    "version": 3
   },
   "file_extension": ".py",
   "mimetype": "text/x-python",
   "name": "python",
   "nbconvert_exporter": "python",
   "pygments_lexer": "ipython3",
   "version": "3.11.9"
  }
 },
 "nbformat": 4,
 "nbformat_minor": 2
}
